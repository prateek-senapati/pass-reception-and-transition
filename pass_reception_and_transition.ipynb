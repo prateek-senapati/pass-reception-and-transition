{
 "cells": [
  {
   "cell_type": "markdown",
   "metadata": {},
   "source": [
    "# Pass Reception and Transition\n",
    "\n",
    "One of the key skills in a midfielder is the ability to drop back into their own defensive half for receiving passes and subsequently transitioning the play to their attacking zones. The objective of this exploratory analysis is to study the same. We are going to find such ball progressing midfielders from the FA Women’s Super League 2020-21 season.\n",
    "\n",
    "Before heading into the analysis, here are some important details related to the data and some rules which we are going to use to model such ball progressing sequences:\n",
    "\n",
    "- We are going to use a pitch configuration where the the pitch is divided into 18 zones, with 6 zones in each third of the pitch. For reference, here's an image of the same pitch configuration by [The Coaches' Voice](https://www.coachesvoice.com/):\n",
    "\n",
    "    <img src=\"images/pitch_zones.jpg\" alt=\"Football Pitch 18 Zones\" width=\"500\" height=\"auto\">\n",
    "\n",
    "- For a pass reception to be considered in this analysis, it must satisfy the following conditions:\n",
    "    - The pass should be successfully received by a midfielder in zones 4-9.\n",
    "    - The pass must have started in zones 1-9, i.e. the defensive half."
   ]
  },
  {
   "cell_type": "code",
   "execution_count": null,
   "metadata": {},
   "outputs": [],
   "source": []
  }
 ],
 "metadata": {
  "kernelspec": {
   "display_name": "pass_reception_and_transition",
   "language": "python",
   "name": "python3"
  },
  "language_info": {
   "name": "python",
   "version": "3.12.1"
  }
 },
 "nbformat": 4,
 "nbformat_minor": 2
}
